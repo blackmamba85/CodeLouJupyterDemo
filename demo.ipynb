{
 "cells": [
  {
   "attachments": {},
   "cell_type": "markdown",
   "metadata": {},
   "source": [
    "<h1>Introduction to Python Demo</h1>\n",
    "<p>Learn the basic concepts of variables, lists, dictionaries and loops</p>\n"
   ]
  },
  {
   "attachments": {},
   "cell_type": "markdown",
   "metadata": {},
   "source": [
    "<h1>Variables</h1>\n",
    "<p>Use variables to store a value that can be used later in your program, over and over again.</p>\n",
    "<p>Variables can be re assign</p>"
   ]
  },
  {
   "cell_type": "code",
   "execution_count": null,
   "metadata": {},
   "outputs": [],
   "source": [
    "#add code\n"
   ]
  },
  {
   "cell_type": "code",
   "execution_count": null,
   "metadata": {},
   "outputs": [],
   "source": [
    "#add code\n"
   ]
  },
  {
   "attachments": {},
   "cell_type": "markdown",
   "metadata": {},
   "source": [
    "<h3>Top 4 Types of Variables in Python</h3>\n",
    "<uo>\n",
    "<li>Integer: Numeric values.</li>\n",
    "<li>Long Integer: A integer whose length is greater than a usual integer type variable.</li>\n",
    "<li>Float: Variables that are intended to hold floating precession values.</li>\n",
    "<li>String: Variables that are intended to hold a string of letters.</li>\n",
    "</uo>"
   ]
  },
  {
   "cell_type": "code",
   "execution_count": null,
   "metadata": {},
   "outputs": [],
   "source": [
    "#add code"
   ]
  },
  {
   "attachments": {},
   "cell_type": "markdown",
   "metadata": {},
   "source": [
    "<h3>Variable Casting</h3>\n",
    "<p>The process of converting a variable from one type to the other.</p>\n"
   ]
  },
  {
   "cell_type": "code",
   "execution_count": null,
   "metadata": {},
   "outputs": [],
   "source": [
    "#add code"
   ]
  },
  {
   "attachments": {},
   "cell_type": "markdown",
   "metadata": {},
   "source": [
    "<h1>Lists</h1>\n",
    "<p>Lists are used to store multiple items in a single variable.</p>\n",
    "<p>Lists are one of 4 built-in data types in Python used to store collections of data</p>\n",
    "<p>Lists are created using square brackets</p>\n",
    "<p>List items are indexed, the first item has index [0], the second item has index [1] etc.</p>\n"
   ]
  },
  {
   "cell_type": "code",
   "execution_count": null,
   "metadata": {},
   "outputs": [],
   "source": [
    "#add code"
   ]
  },
  {
   "cell_type": "markdown",
   "metadata": {},
   "source": [
    "<p>List can contain any data type</p>"
   ]
  },
  {
   "cell_type": "code",
   "execution_count": null,
   "metadata": {},
   "outputs": [],
   "source": [
    "#add code\n"
   ]
  },
  {
   "attachments": {},
   "cell_type": "markdown",
   "metadata": {},
   "source": [
    "<h1>Dictionaries</h1>\n",
    "<p>Dictionaries are used to store data values in key:value pairs.</p>\n",
    "<p>Dictionaries are also one of the 4 built-in data types in Python used to store collections of data</p>\n",
    "<p>Dictionaries cannot have two items with the same key</p>"
   ]
  },
  {
   "cell_type": "code",
   "execution_count": null,
   "metadata": {},
   "outputs": [],
   "source": [
    "#Create and print a dictionary:\n",
    "\n"
   ]
  },
  {
   "cell_type": "code",
   "execution_count": null,
   "metadata": {},
   "outputs": [],
   "source": [
    "#String, int, boolean, and list data types:\n",
    "\n"
   ]
  },
  {
   "cell_type": "markdown",
   "metadata": {},
   "source": [
    "<h3>Loops</h3>\n"
   ]
  },
  {
   "attachments": {},
   "cell_type": "markdown",
   "metadata": {},
   "source": [
    "<h3>For-loop</h3>\n",
    "\n",
    "<p>A “for-loop” allows you to iterate over a collection of items, and execute a block of code once for each iteration</p>\n",
    "\n"
   ]
  },
  {
   "cell_type": "code",
   "execution_count": null,
   "metadata": {},
   "outputs": [],
   "source": [
    "#Print each fruit in a fruit list:\n"
   ]
  },
  {
   "attachments": {},
   "cell_type": "markdown",
   "metadata": {},
   "source": [
    "<h3>While loop</h3>\n",
    "\n",
    "<p>The while loop requires relevant variables to be ready, in this example we need to define an indexing variable, i, which we set to 1.</p>\n"
   ]
  },
  {
   "cell_type": "code",
   "execution_count": null,
   "metadata": {},
   "outputs": [],
   "source": [
    "#Print i as long as i is less than 6:"
   ]
  },
  {
   "attachments": {},
   "cell_type": "markdown",
   "metadata": {},
   "source": [
    "<h2>Putting all concepts together</h2>\n",
    "<p>1. Create a variable named students to store a list of dictionary students</p>\n",
    "<p>2. Create 3 dictionary variables to store 3 students and 3 attributes (First Name, Last Name, Age)</p>\n",
    "<p>3. Add each student to the list of students</p>\n",
    "<p>4. Use a loop to print each student in a new line</p>\n",
    "<p>5. Use a loop to print the last two items of the dictionary only</p>\n",
    "\n"
   ]
  },
  {
   "cell_type": "code",
   "execution_count": null,
   "metadata": {},
   "outputs": [],
   "source": [
    "#add code"
   ]
  },
  {
   "cell_type": "code",
   "execution_count": null,
   "metadata": {},
   "outputs": [],
   "source": [
    "\n",
    "\n",
    "#add code\n"
   ]
  },
  {
   "cell_type": "code",
   "execution_count": null,
   "metadata": {},
   "outputs": [],
   "source": [
    "#add code\n"
   ]
  },
  {
   "cell_type": "code",
   "execution_count": null,
   "metadata": {},
   "outputs": [],
   "source": [
    "#add code"
   ]
  },
  {
   "cell_type": "code",
   "execution_count": null,
   "metadata": {},
   "outputs": [],
   "source": [
    "#add code"
   ]
  },
  {
   "cell_type": "markdown",
   "metadata": {},
   "source": [
    "<h2>Questions?</h2>"
   ]
  }
 ],
 "metadata": {
  "kernelspec": {
   "display_name": "Python 3",
   "language": "python",
   "name": "python3"
  },
  "language_info": {
   "codemirror_mode": {
    "name": "ipython",
    "version": 3
   },
   "file_extension": ".py",
   "mimetype": "text/x-python",
   "name": "python",
   "nbconvert_exporter": "python",
   "pygments_lexer": "ipython3",
   "version": "3.9.13 (main, Aug 25 2022, 23:51:50) [MSC v.1916 64 bit (AMD64)]"
  },
  "orig_nbformat": 4,
  "vscode": {
   "interpreter": {
    "hash": "957668f77d739aed3606dc0cb3e6b9836150d21e7c3a979985571ea2faa3bd84"
   }
  }
 },
 "nbformat": 4,
 "nbformat_minor": 2
}
