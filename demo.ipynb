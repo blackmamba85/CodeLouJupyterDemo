{
 "cells": [
  {
   "attachments": {},
   "cell_type": "markdown",
   "metadata": {},
   "source": [
    "<h1>Introduction to Python Demo</h1>\n",
    "<p>Learn the basic concepts of variables, lists, dictionaries and loops</p>\n"
   ]
  },
  {
   "attachments": {},
   "cell_type": "markdown",
   "metadata": {},
   "source": [
    "<h1>Variables</h1>\n",
    "<p>Use variables to store a value that can be used later in your program, over and over again.</p>\n",
    "<p>Variables can be re assign</p>"
   ]
  },
  {
   "cell_type": "code",
   "execution_count": 35,
   "metadata": {},
   "outputs": [
    {
     "name": "stdout",
     "output_type": "stream",
     "text": [
      "Annia Martinez\n"
     ]
    }
   ],
   "source": [
    "first_name= \"Annia\"\n",
    "last_name=\"Martinez\"\n",
    "\n",
    "print(first_name + \" \" + last_name)\n"
   ]
  },
  {
   "cell_type": "code",
   "execution_count": 36,
   "metadata": {},
   "outputs": [
    {
     "name": "stdout",
     "output_type": "stream",
     "text": [
      "John Smith\n"
     ]
    }
   ],
   "source": [
    "#add code\n",
    "\n",
    "first_name = \"John\"\n",
    "last_name = \"Smith\"\n",
    "\n",
    "print(first_name + \" \" + last_name)\n",
    "\n"
   ]
  },
  {
   "attachments": {},
   "cell_type": "markdown",
   "metadata": {},
   "source": [
    "<h3>Top Types of Variables in Python</h3>\n",
    "<uo>\n",
    "<li>Integer: Numeric values.</li>\n",
    "<li>Float: Variables that are intended to hold floating precession values.</li>\n",
    "<li>String: Variables that are intended to hold a string of letters.</li>\n",
    "</uo>"
   ]
  },
  {
   "cell_type": "code",
   "execution_count": 37,
   "metadata": {},
   "outputs": [
    {
     "name": "stdout",
     "output_type": "stream",
     "text": [
      "Print variable type of value ' 10 [variable1]'  <class 'int'>\n",
      "Print variable type of value ' 3.14 [variable2] '  <class 'float'>\n",
      "Print variable type of string ' 'Numbers' [variable3] '  <class 'str'>\n"
     ]
    }
   ],
   "source": [
    "Variable1 = 10\n",
    "Variable2 = 3.14\n",
    "Variable3 = \"Numbers\"\n",
    "\n",
    "print(\"Print variable type of value ' 10 [variable1]' \" , type(Variable1) )\n",
    "\n",
    "print(\"Print variable type of value ' 3.14 [variable2] ' \" , type(Variable2) )\n",
    "\n",
    "print(\"Print variable type of string ' 'Numbers' [variable3] ' \" , type(Variable3) )"
   ]
  },
  {
   "attachments": {},
   "cell_type": "markdown",
   "metadata": {},
   "source": [
    "<h3>Variable Casting</h3>\n",
    "<p>The process of converting a variable from one type to the other.</p>\n"
   ]
  },
  {
   "cell_type": "code",
   "execution_count": 38,
   "metadata": {},
   "outputs": [
    {
     "name": "stdout",
     "output_type": "stream",
     "text": [
      "Print Total numeric value :  30 Variable Type : <class 'int'>\n",
      "Print Total text value :  1020 Variable Type : <class 'str'>\n",
      "Print Total numeric value :  30.0 Variable Type : <class 'float'>\n"
     ]
    }
   ],
   "source": [
    "ten = 10\n",
    "twenty = 20\n",
    "Total = ten + twenty\n",
    "print(\"Print Total numeric value : \" , Total ,\"Variable Type :\", type(Total) )\n",
    "\n",
    "ten =str(ten)\n",
    "twenty = str(twenty)\n",
    "Total = ten + twenty \n",
    "print(\"Print Total text value : \" , Total ,\"Variable Type :\", type(Total) )\n",
    "\n",
    "ten = float(ten)\n",
    "twenty = float(twenty)\n",
    "Total = ten + twenty\n",
    "print(\"Print Total numeric value : \" , Total ,\"Variable Type :\", type(Total) )"
   ]
  },
  {
   "attachments": {},
   "cell_type": "markdown",
   "metadata": {},
   "source": [
    "<h1>Lists</h1>\n",
    "<p>Lists are used to store multiple items in a single variable.</p>\n",
    "<p>Lists are one of 4 built-in data types in Python used to store collections of data</p>\n",
    "<p>Lists are created using square brackets</p>\n",
    "<p>List items are indexed, the first item has index [0], the second item has index [1] etc.</p>\n"
   ]
  },
  {
   "cell_type": "code",
   "execution_count": 39,
   "metadata": {},
   "outputs": [
    {
     "name": "stdout",
     "output_type": "stream",
     "text": [
      "['apple', 'banana', 'cherry']\n",
      "banana\n"
     ]
    }
   ],
   "source": [
    "fruits = [\"apple\", \"banana\", \"cherry\"]\n",
    "\n",
    "print(fruits)\n",
    "\n",
    "print(fruits[1])"
   ]
  },
  {
   "cell_type": "markdown",
   "metadata": {},
   "source": [
    "<p>List can contain any data type</p>"
   ]
  },
  {
   "cell_type": "code",
   "execution_count": 40,
   "metadata": {},
   "outputs": [
    {
     "name": "stdout",
     "output_type": "stream",
     "text": [
      "[True, False, False] [1, 5, 7, 9, 3] [1.4, 5.6, 8]\n"
     ]
    }
   ],
   "source": [
    "list_of_booleans = [True, False, False]\n",
    "list_of_int = [1, 5, 7, 9, 3]\n",
    "list_of_floats = [1.4, 5.6, 8]\n",
    "\n",
    "print(list_of_booleans,  list_of_int, list_of_floats)"
   ]
  },
  {
   "attachments": {},
   "cell_type": "markdown",
   "metadata": {},
   "source": [
    "<h1>Dictionaries</h1>\n",
    "<p>Dictionaries are used to store data values in key:value pairs.</p>\n",
    "<p>Dictionaries are also one of the 4 built-in data types in Python used to store collections of data</p>\n",
    "<p>Dictionaries cannot have two items with the same key</p>"
   ]
  },
  {
   "cell_type": "code",
   "execution_count": 41,
   "metadata": {},
   "outputs": [
    {
     "name": "stdout",
     "output_type": "stream",
     "text": [
      "{'brand': 'Ford', 'model': 'Mustang', 'year': 1964, 'colors': ['red', 'white', 'blue']}\n",
      "['red', 'white', 'blue']\n"
     ]
    }
   ],
   "source": [
    "car_dictionary = {\n",
    "  \"brand\": \"Ford\",\n",
    "  \"brand\": \"Ford\",\n",
    "  \"model\": \"Mustang\",\n",
    "  \"year\": 1964,\n",
    "  \"colors\": [\"red\", \"white\", \"blue\"]\n",
    "}\n",
    "\n",
    "print(car_dictionary)\n",
    "print(car_dictionary[\"colors\"])\n",
    "\n"
   ]
  },
  {
   "cell_type": "code",
   "execution_count": 42,
   "metadata": {},
   "outputs": [],
   "source": [
    "#String, int, boolean, and list data types:\n",
    "\n"
   ]
  },
  {
   "cell_type": "markdown",
   "metadata": {},
   "source": [
    "<h3>Loops</h3>\n"
   ]
  },
  {
   "attachments": {},
   "cell_type": "markdown",
   "metadata": {},
   "source": [
    "<h3>For-loop</h3>\n",
    "\n",
    "<p>A “for-loop” allows you to iterate over a collection of items, and execute a block of code once for each iteration</p>\n",
    "\n"
   ]
  },
  {
   "cell_type": "code",
   "execution_count": 43,
   "metadata": {},
   "outputs": [
    {
     "name": "stdout",
     "output_type": "stream",
     "text": [
      "apple\n",
      "banana\n",
      "cherry\n",
      "apple\n",
      "banana\n",
      "cherry\n"
     ]
    }
   ],
   "source": [
    "#Print each fruit in a fruit list:\n",
    "\n",
    "fruits = [\"apple\", \"banana\", \"cherry\"]\n",
    "\n",
    "for x in fruits:        \n",
    "  print(x)\n",
    "\n",
    "\n",
    "print(fruits[0])\n",
    "print(fruits[1])\n",
    "print(fruits[2])\n",
    "\n"
   ]
  },
  {
   "attachments": {},
   "cell_type": "markdown",
   "metadata": {},
   "source": [
    "<h3>While loop</h3>\n",
    "\n",
    "<p>The while loop requires relevant variables to be ready, in this example we need to define an indexing variable, i, which we set to 1.</p>\n"
   ]
  },
  {
   "cell_type": "code",
   "execution_count": 44,
   "metadata": {},
   "outputs": [
    {
     "name": "stdout",
     "output_type": "stream",
     "text": [
      "1\n",
      "2\n",
      "3\n",
      "4\n",
      "5\n"
     ]
    }
   ],
   "source": [
    "#Print i as long as i is less than 6:\n",
    "\n",
    "i = 1\n",
    "while i < 6:\n",
    "  print(i)\n",
    "  i += 1"
   ]
  },
  {
   "attachments": {},
   "cell_type": "markdown",
   "metadata": {},
   "source": [
    "<h2>Putting all concepts together</h2>\n",
    "<p>1. Create a variable named students to store a list of dictionary students</p>\n",
    "<p>2. Create 3 dictionary variables to store 3 students and 3 attributes (First Name, Last Name, Age)</p>\n",
    "<p>3. Add each student to the list of students</p>\n",
    "<p>4. Use a loop to print each student in a new line</p>\n",
    "<p>5. Use a loop to print the last two items of the dictionary only</p>\n",
    "\n"
   ]
  },
  {
   "cell_type": "code",
   "execution_count": 45,
   "metadata": {},
   "outputs": [
    {
     "name": "stdout",
     "output_type": "stream",
     "text": [
      "[]\n"
     ]
    }
   ],
   "source": [
    "students = []\n",
    "print(students)"
   ]
  },
  {
   "cell_type": "code",
   "execution_count": 46,
   "metadata": {},
   "outputs": [],
   "source": [
    "student_1={\"1\": [\"John\",\"Smith\", 30]}\n",
    "student_2={\"2\": [\"Joe\",\"Don\", 33]}\n",
    "student_3={\"3\": [\"Clara\", \"Martinez\", 28]}\n"
   ]
  },
  {
   "cell_type": "code",
   "execution_count": 47,
   "metadata": {},
   "outputs": [],
   "source": [
    "students.append(student_1)\n",
    "students.append(student_2)\n",
    "students.append(student_3)"
   ]
  },
  {
   "cell_type": "code",
   "execution_count": 48,
   "metadata": {},
   "outputs": [
    {
     "name": "stdout",
     "output_type": "stream",
     "text": [
      "{'1': ['John', 'Smith', 30]}\n",
      "{'2': ['Joe', 'Don', 33]}\n",
      "{'3': ['Clara', 'Martinez', 28]}\n"
     ]
    }
   ],
   "source": [
    "for x in students:\n",
    "    print(x)"
   ]
  },
  {
   "cell_type": "code",
   "execution_count": 49,
   "metadata": {},
   "outputs": [
    {
     "name": "stdout",
     "output_type": "stream",
     "text": [
      "{'1': ['John', 'Smith', 30]}\n"
     ]
    }
   ],
   "source": [
    "i=0\n",
    "while i<3:\n",
    "    if i != 1:\n",
    "        print(students[i])\n",
    "    i +=3"
   ]
  },
  {
   "cell_type": "markdown",
   "metadata": {},
   "source": [
    "<h2>Questions?</h2>"
   ]
  }
 ],
 "metadata": {
  "kernelspec": {
   "display_name": "base",
   "language": "python",
   "name": "python3"
  },
  "language_info": {
   "codemirror_mode": {
    "name": "ipython",
    "version": 3
   },
   "file_extension": ".py",
   "mimetype": "text/x-python",
   "name": "python",
   "nbconvert_exporter": "python",
   "pygments_lexer": "ipython3",
   "version": "3.7.4"
  },
  "orig_nbformat": 4,
  "vscode": {
   "interpreter": {
    "hash": "ad2bdc8ecc057115af97d19610ffacc2b4e99fae6737bb82f5d7fb13d2f2c186"
   }
  }
 },
 "nbformat": 4,
 "nbformat_minor": 2
}
